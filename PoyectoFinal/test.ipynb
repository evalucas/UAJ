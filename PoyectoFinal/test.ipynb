{
 "cells": [
  {
   "cell_type": "code",
   "execution_count": 37,
   "metadata": {},
   "outputs": [],
   "source": [
    "from ast import If\n",
    "import json\n",
    "import os\n",
    "import glob\n",
    "import numpy as np\n",
    "import playerData\n",
    "\n",
    "files = []\n",
    "playersArray = []\n",
    "numNiveles = 4\n",
    "nivel = -1\n",
    "muertesPorNivel = np.zeros(numNiveles) #esto mide la suma de todas las muertes hechas por todos los jugadores?¿\n",
    "saltosPorNivel = np.zeros(numNiveles)  #esto mide la suma de todos los saltos hechos por todos los jugadores?¿\n",
    "numArchivos = 0\n",
    "\n",
    "\n",
    "def Process(f):\n",
    "    Lines = f.readlines()\n",
    "    count = 0\n",
    "    # For each line process one event\n",
    "    events = []\n",
    "    for line in Lines:\n",
    "        count += 1\n",
    "        events.append(json.loads(line))\n",
    "    return events\n",
    "\n",
    "# def Clean(f):\n",
    "#     session_start = []\n",
    "#     for i in range(0, f.readlines, 1):\n",
    "#         line = f.readline[i]   \n",
    "\n",
    "def ReadFiles():\n",
    "    #List of files in folder\n",
    "    for filename in glob.glob('**/*.json'):\n",
    "        with open(filename) as f: # open files in readonly mode\n",
    "            fName = f.name\n",
    "            fName = \"\".join([ch for ch in fName if ch.isdigit()])   # getONLY the numbers in the name\n",
    "            file = str(fName), Process(f)\n",
    "            files.append(file)\n",
    "            player = playerData.Player(numNiveles)\n",
    "            playersArray.append(player)\n",
    "            global numArchivos\n",
    "            numArchivos += 1\n"
   ]
  },
  {
   "cell_type": "markdown",
   "metadata": {},
   "source": [
    "\n",
    "A partir de ahora en la variable *files* tenemos todos los archivos, y en cada archivo, los eventos separados en formato **json**"
   ]
  },
  {
   "cell_type": "code",
   "execution_count": 38,
   "metadata": {},
   "outputs": [],
   "source": [
    "def SessionStart(e,player):\n",
    "    ID = e[\"sesion\"]\n",
    "    player.setID(ID)\n",
    "def SessionEnd(e,player):\n",
    "    player.end()\n",
    "def LevelStart(e,player):\n",
    "    global nivel\n",
    "    nivel = e[\"nivel\"] -3 #Los niveles estan codificados como nivel 3, 4, 5 y 6, asi que les resto esto para que se guarden como 0,1,2, y 3.\n",
    "    player.resetPath(nivel)\n",
    "\n",
    "def LevelEnd(e, player):\n",
    "    player.lvlEnd()\n",
    "\n",
    "def Pause(e,player):\n",
    "    t = e[\"tiempo\"]\n",
    "    player.pause(t)\n",
    "\n",
    "def Unpause(e,player):\n",
    "    t = e[\"tiempo\"]\n",
    "    player.pause(t)\n",
    "\n",
    "def Death(e, player):\n",
    "    muertesPorNivel[nivel] += 1\n",
    "    player.death(nivel)\n",
    "\n",
    "def Collision(e):\n",
    "    print(\"-------COLLISION NOT IMPLEMENTED--------\")\n",
    "\n",
    "\n",
    "def Jump(e,player):\n",
    "    saltosPorNivel[nivel] += 1\n",
    "    player.jump(nivel)\n",
    "\n",
    "def PlayerPosition(e,player):\n",
    "    pos = e[\"x\"], e[\"y\"]\n",
    "    player.addToPath(pos, nivel)"
   ]
  },
  {
   "cell_type": "code",
   "execution_count": 39,
   "metadata": {},
   "outputs": [],
   "source": [
    "def ProcessEvent(e,actualPlayer):\n",
    "    nombre = e[\"nombre\"]\n",
    "    player = playersArray[actualPlayer] #algunos eventos usaran al jugador y otros no\n",
    "\n",
    "    if nombre == \"SESSION_START\":\n",
    "         SessionStart(e,player)\n",
    "        \n",
    "    elif nombre == \"SESSION_END\": #descomentar para leer informes individuales\n",
    "         SessionEnd(e,player)\n",
    "\n",
    "    elif nombre == \"LEVEL_START\":\n",
    "         LevelStart(e,player)\n",
    "     \n",
    "    elif nombre == \"LEVEL_END\":\n",
    "          LevelEnd(e, player)\n",
    "\n",
    "    elif nombre == \"PAUSE\":\n",
    "         Pause(e, player)\n",
    "\n",
    "    elif nombre == \"UNPAUSE\":\n",
    "         Unpause(e, player)\n",
    "\n",
    "    elif nombre == \"DEATH\":\n",
    "        Death(e,player)\n",
    "\n",
    "    # elif nombre == \"COLLISION\":\n",
    "    #     Collision(e)\n",
    "\n",
    "    elif nombre == \"JUMP\":\n",
    "        Jump(e,player)\n",
    "\n",
    "    elif nombre == \"PLAYER_POSITION\":\n",
    "         PlayerPosition(e,player)\n",
    "\n",
    "\n",
    "    #print(nivel,\":\",nombre)\n",
    "\n",
    "\n"
   ]
  },
  {
   "cell_type": "code",
   "execution_count": 40,
   "metadata": {},
   "outputs": [
    {
     "name": "stdout",
     "output_type": "stream",
     "text": [
      "Processing player  0\n"
     ]
    },
    {
     "ename": "TypeError",
     "evalue": "Player.pause() takes 1 positional argument but 2 were given",
     "output_type": "error",
     "traceback": [
      "\u001b[1;31m---------------------------------------------------------------------------\u001b[0m",
      "\u001b[1;31mTypeError\u001b[0m                                 Traceback (most recent call last)",
      "\u001b[1;32md:\\PERSONAL\\Trabajo\\Quinto\\UAJ\\PoyectoFinal\\test.ipynb Cell 5'\u001b[0m in \u001b[0;36m<cell line: 15>\u001b[1;34m()\u001b[0m\n\u001b[0;32m      <a href='vscode-notebook-cell:/d%3A/PERSONAL/Trabajo/Quinto/UAJ/PoyectoFinal/test.ipynb#ch0000004?line=7'>8</a>\u001b[0m             ProcessEvent(e,actualPlayer)\n\u001b[0;32m     <a href='vscode-notebook-cell:/d%3A/PERSONAL/Trabajo/Quinto/UAJ/PoyectoFinal/test.ipynb#ch0000004?line=9'>10</a>\u001b[0m     \u001b[39m#print(\"------------------------------------------\")\u001b[39;00m\n\u001b[0;32m     <a href='vscode-notebook-cell:/d%3A/PERSONAL/Trabajo/Quinto/UAJ/PoyectoFinal/test.ipynb#ch0000004?line=10'>11</a>\u001b[0m     \u001b[39m#print(\"Media de saltos por jugador en cada nivel:\",saltosPorNivel/np.size(playersArray))\u001b[39;00m\n\u001b[0;32m     <a href='vscode-notebook-cell:/d%3A/PERSONAL/Trabajo/Quinto/UAJ/PoyectoFinal/test.ipynb#ch0000004?line=11'>12</a>\u001b[0m     \u001b[39m#print(\"Media de muertes por jugador en cada nivel:\",muertesPorNivel/np.size(playersArray))\u001b[39;00m\n\u001b[1;32m---> <a href='vscode-notebook-cell:/d%3A/PERSONAL/Trabajo/Quinto/UAJ/PoyectoFinal/test.ipynb#ch0000004?line=14'>15</a>\u001b[0m ProcessFiles()\n",
      "\u001b[1;32md:\\PERSONAL\\Trabajo\\Quinto\\UAJ\\PoyectoFinal\\test.ipynb Cell 5'\u001b[0m in \u001b[0;36mProcessFiles\u001b[1;34m()\u001b[0m\n\u001b[0;32m      <a href='vscode-notebook-cell:/d%3A/PERSONAL/Trabajo/Quinto/UAJ/PoyectoFinal/test.ipynb#ch0000004?line=5'>6</a>\u001b[0m \u001b[39mprint\u001b[39m(\u001b[39m\"\u001b[39m\u001b[39mProcessing player \u001b[39m\u001b[39m\"\u001b[39m, actualPlayer)\n\u001b[0;32m      <a href='vscode-notebook-cell:/d%3A/PERSONAL/Trabajo/Quinto/UAJ/PoyectoFinal/test.ipynb#ch0000004?line=6'>7</a>\u001b[0m \u001b[39mfor\u001b[39;00m e \u001b[39min\u001b[39;00m f[\u001b[39m1\u001b[39m]:\n\u001b[1;32m----> <a href='vscode-notebook-cell:/d%3A/PERSONAL/Trabajo/Quinto/UAJ/PoyectoFinal/test.ipynb#ch0000004?line=7'>8</a>\u001b[0m     ProcessEvent(e,actualPlayer)\n",
      "\u001b[1;32md:\\PERSONAL\\Trabajo\\Quinto\\UAJ\\PoyectoFinal\\test.ipynb Cell 4'\u001b[0m in \u001b[0;36mProcessEvent\u001b[1;34m(e, actualPlayer)\u001b[0m\n\u001b[0;32m     <a href='vscode-notebook-cell:/d%3A/PERSONAL/Trabajo/Quinto/UAJ/PoyectoFinal/test.ipynb#ch0000003?line=14'>15</a>\u001b[0m       LevelEnd(e, player)\n\u001b[0;32m     <a href='vscode-notebook-cell:/d%3A/PERSONAL/Trabajo/Quinto/UAJ/PoyectoFinal/test.ipynb#ch0000003?line=16'>17</a>\u001b[0m \u001b[39melif\u001b[39;00m nombre \u001b[39m==\u001b[39m \u001b[39m\"\u001b[39m\u001b[39mPAUSE\u001b[39m\u001b[39m\"\u001b[39m:\n\u001b[1;32m---> <a href='vscode-notebook-cell:/d%3A/PERSONAL/Trabajo/Quinto/UAJ/PoyectoFinal/test.ipynb#ch0000003?line=17'>18</a>\u001b[0m      Pause(e, player)\n\u001b[0;32m     <a href='vscode-notebook-cell:/d%3A/PERSONAL/Trabajo/Quinto/UAJ/PoyectoFinal/test.ipynb#ch0000003?line=19'>20</a>\u001b[0m \u001b[39melif\u001b[39;00m nombre \u001b[39m==\u001b[39m \u001b[39m\"\u001b[39m\u001b[39mUNPAUSE\u001b[39m\u001b[39m\"\u001b[39m:\n\u001b[0;32m     <a href='vscode-notebook-cell:/d%3A/PERSONAL/Trabajo/Quinto/UAJ/PoyectoFinal/test.ipynb#ch0000003?line=20'>21</a>\u001b[0m      Unpause(e, player)\n",
      "\u001b[1;32md:\\PERSONAL\\Trabajo\\Quinto\\UAJ\\PoyectoFinal\\test.ipynb Cell 3'\u001b[0m in \u001b[0;36mPause\u001b[1;34m(e, player)\u001b[0m\n\u001b[0;32m     <a href='vscode-notebook-cell:/d%3A/PERSONAL/Trabajo/Quinto/UAJ/PoyectoFinal/test.ipynb#ch0000002?line=13'>14</a>\u001b[0m \u001b[39mdef\u001b[39;00m \u001b[39mPause\u001b[39m(e,player):\n\u001b[0;32m     <a href='vscode-notebook-cell:/d%3A/PERSONAL/Trabajo/Quinto/UAJ/PoyectoFinal/test.ipynb#ch0000002?line=14'>15</a>\u001b[0m     t \u001b[39m=\u001b[39m e[\u001b[39m\"\u001b[39m\u001b[39mtiempo\u001b[39m\u001b[39m\"\u001b[39m]\n\u001b[1;32m---> <a href='vscode-notebook-cell:/d%3A/PERSONAL/Trabajo/Quinto/UAJ/PoyectoFinal/test.ipynb#ch0000002?line=15'>16</a>\u001b[0m     player\u001b[39m.\u001b[39;49mpause(t)\n",
      "\u001b[1;31mTypeError\u001b[0m: Player.pause() takes 1 positional argument but 2 were given"
     ]
    }
   ],
   "source": [
    "\n",
    "def ProcessFiles():\n",
    "    ReadFiles()\n",
    "    actualPlayer = -1 #iterador para añadir datos de jugador\n",
    "    for f in files:\n",
    "        actualPlayer+=1\n",
    "        print(\"Processing player \", actualPlayer)\n",
    "        for e in f[1]:\n",
    "            ProcessEvent(e,actualPlayer)\n",
    "    \n",
    "    #print(\"------------------------------------------\")\n",
    "    #print(\"Media de saltos por jugador en cada nivel:\",saltosPorNivel/np.size(playersArray))\n",
    "    #print(\"Media de muertes por jugador en cada nivel:\",muertesPorNivel/np.size(playersArray))\n",
    "\n",
    "\n",
    "ProcessFiles()"
   ]
  }
 ],
 "metadata": {
  "interpreter": {
   "hash": "670c8b79a8851ab98043e813102b9fad675b32890b8cabf5b4217e5c40e45fbf"
  },
  "kernelspec": {
   "display_name": "Python 3.10.4 64-bit",
   "language": "python",
   "name": "python3"
  },
  "language_info": {
   "codemirror_mode": {
    "name": "ipython",
    "version": 3
   },
   "file_extension": ".py",
   "mimetype": "text/x-python",
   "name": "python",
   "nbconvert_exporter": "python",
   "pygments_lexer": "ipython3",
   "version": "3.10.4"
  },
  "orig_nbformat": 4
 },
 "nbformat": 4,
 "nbformat_minor": 2
}
