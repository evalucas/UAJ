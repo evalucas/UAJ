{
 "cells": [
  {
   "cell_type": "code",
   "execution_count": 5,
   "metadata": {},
   "outputs": [],
   "source": [
    "from ast import If\n",
    "import json\n",
    "import os\n",
    "import glob\n",
    "import numpy as np\n",
    "import playerData\n",
    "\n",
    "files = []\n",
    "playersArray = []\n",
    "numNiveles = 4\n",
    "nivel = -1\n",
    "muertesPorNivel = np.zeros(numNiveles) #esto mide la suma de todas las muertes hechas por todos los jugadores?¿\n",
    "saltosPorNivel = np.zeros(numNiveles)  #esto mide la suma de todos los saltos hechos por todos los jugadores?¿\n",
    "numArchivos = 0\n",
    "\n",
    "\n",
    "def Process(f):\n",
    "    Lines = f.readlines()\n",
    "    count = 0\n",
    "    # For each line process one event\n",
    "    events = []\n",
    "    for line in Lines:\n",
    "        count += 1\n",
    "        events.append(json.loads(line))\n",
    "    return events\n",
    "\n",
    "# def Clean(f):\n",
    "#     session_start = []\n",
    "#     for i in range(0, f.readlines, 1):\n",
    "#         line = f.readline[i]   \n",
    "\n",
    "def ReadFiles():\n",
    "    #List of files in folder\n",
    "    for filename in glob.glob('*.json'):\n",
    "        with open(filename) as f: # open files in readonly mode\n",
    "            file = f.name, Process(f)\n",
    "            files.append(file)\n",
    "            player = playerData.Player(numNiveles)\n",
    "            playersArray.append(player)\n",
    "            global numArchivos\n",
    "            numArchivos += 1"
   ]
  },
  {
   "cell_type": "markdown",
   "metadata": {},
   "source": [
    "\n",
    "A partir de ahora en la variable *files* tenemos todos los archivos, y en cada archivo, los eventos separados en formato **json**"
   ]
  },
  {
   "cell_type": "code",
   "execution_count": 6,
   "metadata": {},
   "outputs": [],
   "source": [
    "def SessionStart(e,player):\n",
    "    ID = e[\"sesion\"]\n",
    "    player.setID(ID)\n",
    "def SessionEnd(e):\n",
    "    print(\"-------SESSIONEND NOT IMPLEMENTED--------\")\n",
    "\n",
    "def LevelStart(e):\n",
    "    global nivel\n",
    "    nivel = e[\"nivel\"] -3 #Los niveles estan codificados como nivel 3, 4, 5 y 6, asi que les resto esto para que se guarden como 0,1,2, y 3.\n",
    "\n",
    "def LevelEnd(e):\n",
    "    print(\"-------LEVELEND NOT IMPLEMENTED--------\")\n",
    "\n",
    "def Pause(e):\n",
    "    print(\"-------PAUSE NOT IMPLEMENTED--------\")\n",
    "\n",
    "def Unpause(e):\n",
    "    print(\"-------UNPAUSE NOT IMPLEMENTED--------\")\n",
    "\n",
    "def Death(e, player):\n",
    "    muertesPorNivel[nivel] += 1\n",
    "    player.death(nivel)\n",
    "\n",
    "def Collision(e):\n",
    "    print(\"-------COLLISION NOT IMPLEMENTED--------\")\n",
    "\n",
    "\n",
    "def Jump(e,player):\n",
    "    saltosPorNivel[nivel] += 1\n",
    "    player.jump(nivel)\n",
    "\n",
    "def PlayerPosition(e):\n",
    "    print(\"-------PLAYERPOSITION NOT IMPLEMENTED--------\")"
   ]
  },
  {
   "cell_type": "code",
   "execution_count": 7,
   "metadata": {},
   "outputs": [],
   "source": [
    "def ProcessEvent(e,actualPlayer):\n",
    "    nombre = e[\"nombre\"]\n",
    "    player = playersArray[actualPlayer] #algunos eventos usaran al jugador y otros no\n",
    "\n",
    "    if nombre == \"SESSION_START\":\n",
    "         SessionStart(e,player)\n",
    "        \n",
    "    # elif nombre == \"SESSION_END\":\n",
    "    #     SessionEnd(e)\n",
    "\n",
    "    elif nombre == \"LEVEL_START\":\n",
    "         LevelStart(e)\n",
    "\n",
    "    # elif nombre == \"LEVEL_END\":\n",
    "    #     LevelEnd(e)\n",
    "\n",
    "    # elif nombre == \"PAUSE\":\n",
    "    #     Pause(e)\n",
    "\n",
    "    # elif nombre == \"UNPAUSE\":\n",
    "    #     Unpause(e)\n",
    "\n",
    "    elif nombre == \"DEATH\":\n",
    "        Death(e,player)\n",
    "\n",
    "    # elif nombre == \"COLLISION\":\n",
    "    #     Collision(e)\n",
    "\n",
    "    elif nombre == \"JUMP\":\n",
    "        Jump(e,player)\n",
    "\n",
    "    # elif nombre == \"PLAYER_POSITION\":\n",
    "    #     PlayerPosition(e)\n",
    "\n",
    "\n",
    "    #print(nivel,\":\",nombre)\n",
    "\n",
    "\n"
   ]
  },
  {
   "cell_type": "code",
   "execution_count": 8,
   "metadata": {},
   "outputs": [
    {
     "name": "stdout",
     "output_type": "stream",
     "text": [
      "Media de saltos por jugador en cada nivel: [34.75       97.63636364 52.31818182 47.70454545]\n",
      "Media de muertes por jugador en cada nivel: [0.38636364 1.5        0.         0.29545455]\n"
     ]
    }
   ],
   "source": [
    "\n",
    "def ProcessFiles():\n",
    "    ReadFiles()\n",
    "    actualPlayer = -1 #iterador para añadir datos de jugador\n",
    "    for f in files:\n",
    "        actualPlayer+=1\n",
    "        for e in f[1]:\n",
    "            ProcessEvent(e,actualPlayer)\n",
    "    print(\"Media de saltos por jugador en cada nivel:\",saltosPorNivel/np.size(playersArray))\n",
    "    print(\"Media de muertes por jugador en cada nivel:\",muertesPorNivel/np.size(playersArray))\n",
    "\n",
    "ProcessFiles()"
   ]
  }
 ],
 "metadata": {
  "interpreter": {
   "hash": "a4089c162f9be3b77d1c644bfe729d02bb03d8ff8fb7e500653989a8c9c9202a"
  },
  "kernelspec": {
   "display_name": "Python 3.10.4 64-bit",
   "language": "python",
   "name": "python3"
  },
  "language_info": {
   "codemirror_mode": {
    "name": "ipython",
    "version": 3
   },
   "file_extension": ".py",
   "mimetype": "text/x-python",
   "name": "python",
   "nbconvert_exporter": "python",
   "pygments_lexer": "ipython3",
   "version": "3.10.4"
  },
  "orig_nbformat": 4
 },
 "nbformat": 4,
 "nbformat_minor": 2
}
