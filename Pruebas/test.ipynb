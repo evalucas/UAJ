{
 "cells": [
  {
   "cell_type": "code",
   "execution_count": 1,
   "metadata": {},
   "outputs": [
    {
     "name": "stdout",
     "output_type": "stream",
     "text": [
      "[('ID_612050246567501450 - JESUS RAMOS RODRIGUEZ.json', [{'nombre': 'SESSION_START', 'tiempo': 1.7780630588531494, 'sesion': 612050246567501450}, {'nombre': 'LEVEL_START', 'tiempo': 4.850643634796143, 'sesion': 612050246567501450, 'nivel': 3}, {'nombre': 'PLAYER_POSITION', 'tiempo': 5.8165740966796875, 'sesion': 612050246567501450, 'x': -3.6500000953674316, 'y': 0.2971458435058594}, {'nombre': 'JUMP', 'tiempo': 5.930089473724365, 'sesion': 612050246567501450, 'x': -3.6500000953674316, 'y': 0.2971458435058594}, {'nombre': 'PLAYER_POSITION', 'tiempo': 6.817402362823486, 'sesion': 612050246567501450, 'x': -3.6500000953674316, 'y': 0.28893420100212097}, {'nombre': 'SESSION_END', 'tiempo': 7.339675426483154, 'sesion': 612050246567501450}]), ('ID_612050246567501450 - Jorge Bello Martín.json', [{'nombre': 'SESSION_START', 'tiempo': 1.7780630588531494, 'sesion': 612050246567501450}, {'nombre': 'LEVEL_START', 'tiempo': 4.850643634796143, 'sesion': 612050246567501450, 'nivel': 3}, {'nombre': 'PLAYER_POSITION', 'tiempo': 5.8165740966796875, 'sesion': 612050246567501450, 'x': -3.6500000953674316, 'y': 0.2971458435058594}, {'nombre': 'JUMP', 'tiempo': 5.930089473724365, 'sesion': 612050246567501450, 'x': -3.6500000953674316, 'y': 0.2971458435058594}, {'nombre': 'PLAYER_POSITION', 'tiempo': 6.817402362823486, 'sesion': 612050246567501450, 'x': -3.6500000953674316, 'y': 0.28893420100212097}, {'nombre': 'SESSION_END', 'tiempo': 7.339675426483154, 'sesion': 612050246567501450}])]\n"
     ]
    }
   ],
   "source": [
    "from ast import If\n",
    "import json\n",
    "import os\n",
    "import glob\n",
    "import numpy as np\n",
    "\n",
    "files = []\n",
    "\n",
    "def Process(f):\n",
    "    Lines = f.readlines()\n",
    "    count = 0\n",
    "    # For each line process one event\n",
    "    events = []\n",
    "    for line in Lines:\n",
    "        count += 1\n",
    "        events.append(json.loads(line))\n",
    "    return events\n",
    "\n",
    "def Clean(f):\n",
    "    session_start = []\n",
    "    for i in range(0, f.readlines, 1):\n",
    "        line = f.readline[i]   \n",
    "          \n",
    "#List of files in folder\n",
    "for filename in glob.glob('*.json'):\n",
    "    with open(filename) as f: # open files in readonly mode\n",
    "        file = f.name, Process(f)\n",
    "        files.append(file)\n",
    "print (files)\n"
   ]
  },
  {
   "cell_type": "markdown",
   "metadata": {},
   "source": [
    "\n",
    "A partir de ahora en la variable *files* tenemos todos los archivos, y en cada archivo, los eventos separados en formato **json**"
   ]
  },
  {
   "cell_type": "code",
   "execution_count": 14,
   "metadata": {},
   "outputs": [
    {
     "name": "stdout",
     "output_type": "stream",
     "text": [
      "[0, 0, 0, 4, 0]\n"
     ]
    }
   ],
   "source": [
    "def NumberOfActionPerLevel(act):\n",
    "    jugadores = [0] * 2\n",
    "    njugador = 0\n",
    "    for f in files:\n",
    "        muertes = [0] * 5\n",
    "        nivel = 0\n",
    "        for e in f[1]:\n",
    "            if e[\"nombre\"] == \"LEVEL_START\":\n",
    "                nivel = e[\"nivel\"]\n",
    "            if (e[\"nombre\"] == act) & (nivel != 0):\n",
    "                i=0\n",
    "                muertes[nivel] += 1\n",
    "        jugadores[njugador] = muertes\n",
    "        njugador += 1\n",
    "\n",
    "    muertes = [0] * 5\n",
    "    jugador = [0] * 2\n",
    "    for j in jugadores:\n",
    "        nivel = 0\n",
    "        for m in j:\n",
    "            muertes[nivel]+=  m\n",
    "            nivel += 1\n",
    "            #jugador[nivel] +=  1\n",
    "    print(muertes)\n",
    "\n",
    "NumberOfActionPerLevel(\"JUMP\")"
   ]
  },
  {
   "cell_type": "code",
   "execution_count": null,
   "metadata": {},
   "outputs": [],
   "source": [
    "def ProcessEvent(e):\n",
    "    data = json.loads(e)\n",
    "    nombre = data[\"nombre\"]\n",
    "\n",
    "    if nombre == \"SESSION_START\":\n",
    "        # hacer cosas\n",
    "        i = 0\n",
    "    elif nombre == \"SESSION_END\":\n",
    "        # hacer cosas\n",
    "        i = 0\n",
    "    elif nombre == \"LEVEL_START\":\n",
    "        # hacer cosas\n",
    "        i = 0\n",
    "    elif nombre == \"LEVEL_END\":\n",
    "        # hacer cosas\n",
    "        i = 0\n",
    "    elif nombre == \"PAUSE\":\n",
    "        # hacer cosas\n",
    "        i = 0\n",
    "    elif nombre == \"UNPAUSE\":\n",
    "        # hacer cosas\n",
    "        i = 0\n",
    "    elif nombre == \"DEATH\":\n",
    "        # hacer cosas\n",
    "        i = 0\n",
    "    elif nombre == \"COLLISION\":\n",
    "        # hacer cosas\n",
    "        i = 0\n",
    "    elif nombre == \"JUMP\":\n",
    "        # hacer cosas\n",
    "        i = 0\n",
    "    elif nombre == \"PLAYER_POSITION\":\n",
    "        # hacer cosas\n",
    "        i = 0\n",
    "\n",
    "    print(nombre)\n",
    "\n",
    "\n",
    "def ProcessPlayerPosition(f):\n",
    "    for i in range(0, 5, 1):\n",
    "        f.readline[0]\n"
   ]
  }
 ],
 "metadata": {
  "interpreter": {
   "hash": "901b79e026e03396fd1ffa7133844e9ea80e258ce34c66e1aabb5896bcb18463"
  },
  "kernelspec": {
   "display_name": "Python 3.10.4 64-bit",
   "language": "python",
   "name": "python3"
  },
  "language_info": {
   "codemirror_mode": {
    "name": "ipython",
    "version": 3
   },
   "file_extension": ".py",
   "mimetype": "text/x-python",
   "name": "python",
   "nbconvert_exporter": "python",
   "pygments_lexer": "ipython3",
   "version": "3.10.4"
  },
  "orig_nbformat": 4
 },
 "nbformat": 4,
 "nbformat_minor": 2
}
