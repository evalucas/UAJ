{
 "cells": [
  {
   "cell_type": "code",
   "execution_count": 15,
   "metadata": {},
   "outputs": [
    {
     "name": "stdout",
     "output_type": "stream",
     "text": [
      "Processing file ID_612050246567501450 - JESUS RAMOS RODRIGUEZ.json\n",
      "\n",
      "SESSION_START\n",
      "LEVEL_START\n",
      "PLAYER_POSITION\n",
      "JUMP\n",
      "PLAYER_POSITION\n",
      "SESSION_END\n",
      "Processing file ID_612050246567501450 - Jorge Bello Martín.json\n",
      "\n",
      "SESSION_START\n",
      "LEVEL_START\n",
      "PLAYER_POSITION\n",
      "JUMP\n",
      "PLAYER_POSITION\n",
      "SESSION_END\n"
     ]
    }
   ],
   "source": [
    "from ast import If\n",
    "import json\n",
    "import os\n",
    "import glob\n",
    "import numpy as np\n",
    "\n",
    "def Process(f):\n",
    "    Lines = f.readlines()\n",
    "    count = 0\n",
    "    # For each line process one event\n",
    "    for line in Lines:\n",
    "        count += 1\n",
    "        ProcessEvent(line)\n",
    "\n",
    "def ProcessEvent(e):\n",
    "    data = json.loads(e)\n",
    "    nombre = data[\"nombre\"]\n",
    "\n",
    "    if nombre == \"SESSION_START\":\n",
    "        # hacer cosas\n",
    "        i = 0\n",
    "    elif nombre == \"SESSION_END\":\n",
    "        # hacer cosas\n",
    "        i = 0\n",
    "    elif nombre == \"LEVEL_START\":\n",
    "        # hacer cosas\n",
    "        i = 0\n",
    "    elif nombre == \"LEVEL_END\":\n",
    "        # hacer cosas\n",
    "        i = 0\n",
    "    elif nombre == \"PAUSE\":\n",
    "        # hacer cosas\n",
    "        i = 0\n",
    "    elif nombre == \"UNPAUSE\":\n",
    "        # hacer cosas\n",
    "        i = 0\n",
    "    elif nombre == \"DEATH\":\n",
    "        # hacer cosas\n",
    "        i = 0\n",
    "    elif nombre == \"COLLISION\":\n",
    "        # hacer cosas\n",
    "        i = 0\n",
    "    elif nombre == \"JUMP\":\n",
    "        # hacer cosas\n",
    "        i = 0\n",
    "    elif nombre == \"PLAYER_POSITION\":\n",
    "        # hacer cosas\n",
    "        i = 0\n",
    "\n",
    "    print(nombre)\n",
    "\n",
    "\n",
    "def ProcessPlayerPosition(f):\n",
    "    for i in range(0, 5, 1):\n",
    "        f.readline[0]\n",
    "\n",
    "\n",
    "def Clean(f):\n",
    "    session_start = []\n",
    "    for i in range(0, f.readlines, 1):\n",
    "        line = f.readline[i]\n",
    "        \n",
    "#List of files in folder\n",
    "for filename in glob.glob('*.json'):\n",
    "    with open(filename) as f: # open files in readonly mode\n",
    "        print(\"Processing file \" + f.name + \"\\n\")\n",
    "        Process(f)\n"
   ]
  },
  {
   "cell_type": "code",
   "execution_count": 2,
   "metadata": {},
   "outputs": [
    {
     "data": {
      "text/plain": [
       "'3.10.4 (tags/v3.10.4:9d38120, Mar 23 2022, 23:13:41) [MSC v.1929 64 bit (AMD64)]'"
      ]
     },
     "execution_count": 2,
     "metadata": {},
     "output_type": "execute_result"
    }
   ],
   "source": [
    "import sys\n",
    "sys.version"
   ]
  }
 ],
 "metadata": {
  "interpreter": {
   "hash": "901b79e026e03396fd1ffa7133844e9ea80e258ce34c66e1aabb5896bcb18463"
  },
  "kernelspec": {
   "display_name": "Python 3.10.4 64-bit",
   "language": "python",
   "name": "python3"
  },
  "language_info": {
   "codemirror_mode": {
    "name": "ipython",
    "version": 3
   },
   "file_extension": ".py",
   "mimetype": "text/x-python",
   "name": "python",
   "nbconvert_exporter": "python",
   "pygments_lexer": "ipython3",
   "version": "3.10.4"
  },
  "orig_nbformat": 4
 },
 "nbformat": 4,
 "nbformat_minor": 2
}
