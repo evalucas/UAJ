{
 "cells": [
  {
   "cell_type": "code",
   "execution_count": 79,
   "metadata": {},
   "outputs": [],
   "source": [
    "from ast import If\n",
    "import json\n",
    "import os\n",
    "import glob\n",
    "import numpy as np\n",
    "\n",
    "files = []\n",
    "numNiveles = 5\n",
    "nivel = -1\n",
    "muertesPorNivel = np.zeros(numNiveles)\n",
    "saltosPorNivel = np.zeros(numNiveles)\n",
    "numArchivos = 0\n",
    "\n",
    "\n",
    "def Process(f):\n",
    "    Lines = f.readlines()\n",
    "    count = 0\n",
    "    # For each line process one event\n",
    "    events = []\n",
    "    for line in Lines:\n",
    "        count += 1\n",
    "        events.append(json.loads(line))\n",
    "    return events\n",
    "\n",
    "# def Clean(f):\n",
    "#     session_start = []\n",
    "#     for i in range(0, f.readlines, 1):\n",
    "#         line = f.readline[i]   \n",
    "\n",
    "def ReadFiles():\n",
    "    #List of files in folder\n",
    "    for filename in glob.glob('*.json'):\n",
    "        with open(filename) as f: # open files in readonly mode\n",
    "            file = f.name, Process(f)\n",
    "            files.append(file)\n",
    "            global numArchivos\n",
    "            numArchivos += 1"
   ]
  },
  {
   "cell_type": "markdown",
   "metadata": {},
   "source": [
    "\n",
    "A partir de ahora en la variable *files* tenemos todos los archivos, y en cada archivo, los eventos separados en formato **json**"
   ]
  },
  {
   "cell_type": "code",
   "execution_count": 80,
   "metadata": {},
   "outputs": [],
   "source": [
    "def SessionStart(e):\n",
    "    print(\"-------SESSIONSTART NOT IMPLEMENTED--------\\n\")\n",
    "\n",
    "def SessionEnd(e):\n",
    "    print(\"-------SESSIONEND NOT IMPLEMENTED--------\")\n",
    "\n",
    "def LevelStart(e):\n",
    "    global nivel\n",
    "    nivel = e[\"nivel\"]\n",
    "\n",
    "def LevelEnd(e):\n",
    "    print(\"-------LEVELEND NOT IMPLEMENTED--------\")\n",
    "\n",
    "def Pause(e):\n",
    "    print(\"-------PAUSE NOT IMPLEMENTED--------\")\n",
    "\n",
    "def Unpause(e):\n",
    "    print(\"-------UNPAUSE NOT IMPLEMENTED--------\")\n",
    "\n",
    "def Death(e):\n",
    "    muertesPorNivel[nivel] += 1\n",
    "\n",
    "def Collision(e):\n",
    "    print(\"-------COLLISION NOT IMPLEMENTED--------\")\n",
    "\n",
    "\n",
    "def Jump(e):\n",
    "    saltosPorNivel[nivel] += 1\n",
    "\n",
    "def PlayerPosition(e):\n",
    "    print(\"-------PLAYERPOSITION NOT IMPLEMENTED--------\")"
   ]
  },
  {
   "cell_type": "code",
   "execution_count": 81,
   "metadata": {},
   "outputs": [],
   "source": [
    "def ProcessEvent(e):\n",
    "    nombre = e[\"nombre\"]\n",
    "\n",
    "    # if nombre == \"SESSION_START\":\n",
    "    #     SessionStart(e)\n",
    "        \n",
    "    # elif nombre == \"SESSION_END\":\n",
    "    #     SessionEnd(e)\n",
    "\n",
    "    # el\n",
    "    if nombre == \"LEVEL_START\":\n",
    "         LevelStart(e)\n",
    "\n",
    "    # elif nombre == \"LEVEL_END\":\n",
    "    #     LevelEnd(e)\n",
    "\n",
    "    # elif nombre == \"PAUSE\":\n",
    "    #     Pause(e)\n",
    "\n",
    "    # elif nombre == \"UNPAUSE\":\n",
    "    #     Unpause(e)\n",
    "\n",
    "    # elif nombre == \"DEATH\":\n",
    "    #     Death(e)\n",
    "\n",
    "    # elif nombre == \"COLLISION\":\n",
    "    #     Collision(e)\n",
    "\n",
    "    elif nombre == \"JUMP\":\n",
    "        Jump(e)\n",
    "\n",
    "    # elif nombre == \"PLAYER_POSITION\":\n",
    "    #     PlayerPosition(e)\n",
    "\n",
    "\n",
    "    print(nivel,\":\",nombre)\n",
    "\n",
    "\n"
   ]
  },
  {
   "cell_type": "code",
   "execution_count": 82,
   "metadata": {},
   "outputs": [
    {
     "name": "stdout",
     "output_type": "stream",
     "text": [
      "-1 : SESSION_START\n",
      "3 : LEVEL_START\n",
      "3 : PLAYER_POSITION\n",
      "3 : JUMP\n",
      "3 : PLAYER_POSITION\n",
      "3 : SESSION_END\n",
      "3 : SESSION_START\n",
      "2 : LEVEL_START\n",
      "2 : PLAYER_POSITION\n",
      "2 : PLAYER_POSITION\n",
      "2 : JUMP\n",
      "2 : PLAYER_POSITION\n",
      "2 : SESSION_END\n",
      "[0. 0. 1. 1. 0.]\n",
      "2\n"
     ]
    }
   ],
   "source": [
    "\n",
    "def ProcessFiles():\n",
    "    ReadFiles()\n",
    "    jugadores = np.zeros(np.size(files))\n",
    "    for f in files:\n",
    "        for e in f[1]:\n",
    "            ProcessEvent(e)\n",
    "    print(saltosPorNivel)\n",
    "\n",
    "ProcessFiles()"
   ]
  }
 ],
 "metadata": {
  "interpreter": {
   "hash": "a74b712383a3e75831ff1ecb7296e60927a7930cb4d0a661c5a9e6869b27c0a0"
  },
  "kernelspec": {
   "display_name": "Python 3.9.12 64-bit (windows store)",
   "language": "python",
   "name": "python3"
  },
  "language_info": {
   "codemirror_mode": {
    "name": "ipython",
    "version": 3
   },
   "file_extension": ".py",
   "mimetype": "text/x-python",
   "name": "python",
   "nbconvert_exporter": "python",
   "pygments_lexer": "ipython3",
   "version": "3.9.12"
  },
  "orig_nbformat": 4
 },
 "nbformat": 4,
 "nbformat_minor": 2
}
